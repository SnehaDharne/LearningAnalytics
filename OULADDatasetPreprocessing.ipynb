{
  "nbformat": 4,
  "nbformat_minor": 0,
  "metadata": {
    "colab": {
      "name": "OULADDatasetPreprocessing.ipynb",
      "provenance": [],
      "mount_file_id": "1EANZaWPoYpvOjuG6E7RisvOV4stZt5uz",
      "authorship_tag": "ABX9TyONua8Wi910SI/bcK+/DjiA",
      "include_colab_link": true
    },
    "kernelspec": {
      "name": "python3",
      "display_name": "Python 3"
    },
    "language_info": {
      "name": "python"
    }
  },
  "cells": [
    {
      "cell_type": "markdown",
      "metadata": {
        "id": "view-in-github",
        "colab_type": "text"
      },
      "source": [
        "<a href=\"https://colab.research.google.com/github/SnehaDharne/LearningAnalytics/blob/main/OULADDatasetPreprocessing.ipynb\" target=\"_parent\"><img src=\"https://colab.research.google.com/assets/colab-badge.svg\" alt=\"Open In Colab\"/></a>"
      ]
    },
    {
      "cell_type": "code",
      "execution_count": null,
      "metadata": {
        "id": "tP9fGFfaRYLn"
      },
      "outputs": [],
      "source": [
        "path='/content/drive/MyDrive/dataset for notebooks/dataset_for_project.csv'"
      ]
    },
    {
      "cell_type": "code",
      "source": [
        "import pandas as pd\n",
        "import numpy as np\n",
        "import sklearn\n",
        "%matplotlib inline\n",
        "import matplotlib.pyplot as plt\n",
        "import seaborn as sns; "
      ],
      "metadata": {
        "id": "FZPrxvY6SAUq"
      },
      "execution_count": null,
      "outputs": []
    },
    {
      "cell_type": "code",
      "source": [
        "pd.set_option('display.max_columns', None)\n",
        "df = pd.read_csv(path)"
      ],
      "metadata": {
        "id": "JE9ZpOAgSD0x"
      },
      "execution_count": null,
      "outputs": []
    },
    {
      "cell_type": "code",
      "source": [
        ""
      ],
      "metadata": {
        "id": "MBxVqsYJqb6v"
      },
      "execution_count": null,
      "outputs": []
    },
    {
      "cell_type": "code",
      "source": [
        ""
      ],
      "metadata": {
        "id": "XudTCJlSSKOd"
      },
      "execution_count": null,
      "outputs": []
    },
    {
      "cell_type": "code",
      "source": [
        "sns.heatmap(df.isnull(),yticklabels=False, cbar=False, cmap='viridis')"
      ],
      "metadata": {
        "colab": {
          "base_uri": "https://localhost:8080/",
          "height": 433
        },
        "id": "RCqrJmV1TdUx",
        "outputId": "8b26d146-22f8-4063-8c51-1922f2f57edc"
      },
      "execution_count": null,
      "outputs": [
        {
          "output_type": "execute_result",
          "data": {
            "text/plain": [
              "<matplotlib.axes._subplots.AxesSubplot at 0x7f95137362d0>"
            ]
          },
          "metadata": {},
          "execution_count": 155
        },
        {
          "output_type": "display_data",
          "data": {
            "text/plain": [
              "<Figure size 432x288 with 1 Axes>"
            ],
            "image/png": "[encoded data removed]"
          },
          "metadata": {
            "needs_background": "light"
          }
        }
      ]
    },
    {
      "cell_type": "code",
      "source": [
        "df.loc[(df['date_submitted'].isnull())&(df['score'].notnull())]"
      ],
      "metadata": {
        "colab": {
          "base_uri": "https://localhost:8080/",
          "height": 131
        },
        "id": "Qailcz0-Ur3F",
        "outputId": "ce296240-893c-49f9-9cba-3de141daa0aa"
      },
      "execution_count": null,
      "outputs": [
        {
          "output_type": "execute_result",
          "data": {
            "text/plain": [
              "Empty DataFrame\n",
              "Columns: [Unnamed: 0, code_module, code_presentation, id_student, gender, region, highest_education, imd_band, age_band, num_of_prev_attempts, studied_credits, disability, final_result, date_registration, date_unregistration, id_assessment, date_submitted, is_banked, score, assessment_type, date, weight, module_presentation_length]\n",
              "Index: []"
            ],
            "text/html": [
              "\n",
              "  <div id=\"df-a69f722e-4df9-4455-9c79-af0d2a80d45d\">\n",
              "    <div class=\"colab-df-container\">\n",
              "      <div>\n",
              "<style scoped>\n",
              "    .dataframe tbody tr th:only-of-type {\n",
              "        vertical-align: middle;\n",
              "    }\n",
              "\n",
              "    .dataframe tbody tr th {\n",
              "        vertical-align: top;\n",
              "    }\n",
              "\n",
              "    .dataframe thead th {\n",
              "        text-align: right;\n",
              "    }\n",
              "</style>\n",
              "<table border=\"1\" class=\"dataframe\">\n",
              "  <thead>\n",
              "    <tr style=\"text-align: right;\">\n",
              "      <th></th>\n",
              "      <th>Unnamed: 0</th>\n",
              "      <th>code_module</th>\n",
              "      <th>code_presentation</th>\n",
              "      <th>id_student</th>\n",
              "      <th>gender</th>\n",
              "      <th>region</th>\n",
              "      <th>highest_education</th>\n",
              "      <th>imd_band</th>\n",
              "      <th>age_band</th>\n",
              "      <th>num_of_prev_attempts</th>\n",
              "      <th>studied_credits</th>\n",
              "      <th>disability</th>\n",
              "      <th>final_result</th>\n",
              "      <th>date_registration</th>\n",
              "      <th>date_unregistration</th>\n",
              "      <th>id_assessment</th>\n",
              "      <th>date_submitted</th>\n",
              "      <th>is_banked</th>\n",
              "      <th>score</th>\n",
              "      <th>assessment_type</th>\n",
              "      <th>date</th>\n",
              "      <th>weight</th>\n",
              "      <th>module_presentation_length</th>\n",
              "    </tr>\n",
              "  </thead>\n",
              "  <tbody>\n",
              "  </tbody>\n",
              "</table>\n",
              "</div>\n",
              "      <button class=\"colab-df-convert\" onclick=\"convertToInteractive('df-a69f722e-4df9-4455-9c79-af0d2a80d45d')\"\n",
              "              title=\"Convert this dataframe to an interactive table.\"\n",
              "              style=\"display:none;\">\n",
              "        \n",
              "  <svg xmlns=\"http://www.w3.org/2000/svg\" height=\"24px\"viewBox=\"0 0 24 24\"\n",
              "       width=\"24px\">\n",
              "    <path d=\"M0 0h24v24H0V0z\" fill=\"none\"/>\n",
              "    <path d=\"M18.56 5.44l.94 2.06.94-2.06 2.06-.94-2.06-.94-.94-2.06-.94 2.06-2.06.94zm-11 1L8.5 8.5l.94-2.06 2.06-.94-2.06-.94L8.5 2.5l-.94 2.06-2.06.94zm10 10l.94 2.06.94-2.06 2.06-.94-2.06-.94-.94-2.06-.94 2.06-2.06.94z\"/><path d=\"M17.41 7.96l-1.37-1.37c-.4-.4-.92-.59-1.43-.59-.52 0-1.04.2-1.43.59L10.3 9.45l-7.72 7.72c-.78.78-.78 2.05 0 2.83L4 21.41c.39.39.9.59 1.41.59.51 0 1.02-.2 1.41-.59l7.78-7.78 2.81-2.81c.8-.78.8-2.07 0-2.86zM5.41 20L4 18.59l7.72-7.72 1.47 1.35L5.41 20z\"/>\n",
              "  </svg>\n",
              "      </button>\n",
              "      \n",
              "  <style>\n",
              "    .colab-df-container {\n",
              "      display:flex;\n",
              "      flex-wrap:wrap;\n",
              "      gap: 12px;\n",
              "    }\n",
              "\n",
              "    .colab-df-convert {\n",
              "      background-color: #E8F0FE;\n",
              "      border: none;\n",
              "      border-radius: 50%;\n",
              "      cursor: pointer;\n",
              "      display: none;\n",
              "      fill: #1967D2;\n",
              "      height: 32px;\n",
              "      padding: 0 0 0 0;\n",
              "      width: 32px;\n",
              "    }\n",
              "\n",
              "    .colab-df-convert:hover {\n",
              "      background-color: #E2EBFA;\n",
              "      box-shadow: 0px 1px 2px rgba(60, 64, 67, 0.3), 0px 1px 3px 1px rgba(60, 64, 67, 0.15);\n",
              "      fill: #174EA6;\n",
              "    }\n",
              "\n",
              "    [theme=dark] .colab-df-convert {\n",
              "      background-color: #3B4455;\n",
              "      fill: #D2E3FC;\n",
              "    }\n",
              "\n",
              "    [theme=dark] .colab-df-convert:hover {\n",
              "      background-color: #434B5C;\n",
              "      box-shadow: 0px 1px 3px 1px rgba(0, 0, 0, 0.15);\n",
              "      filter: drop-shadow(0px 1px 2px rgba(0, 0, 0, 0.3));\n",
              "      fill: #FFFFFF;\n",
              "    }\n",
              "  </style>\n",
              "\n",
              "      <script>\n",
              "        const buttonEl =\n",
              "          document.querySelector('#df-a69f722e-4df9-4455-9c79-af0d2a80d45d button.colab-df-convert');\n",
              "        buttonEl.style.display =\n",
              "          google.colab.kernel.accessAllowed ? 'block' : 'none';\n",
              "\n",
              "        async function convertToInteractive(key) {\n",
              "          const element = document.querySelector('#df-a69f722e-4df9-4455-9c79-af0d2a80d45d');\n",
              "          const dataTable =\n",
              "            await google.colab.kernel.invokeFunction('convertToInteractive',\n",
              "                                                     [key], {});\n",
              "          if (!dataTable) return;\n",
              "\n",
              "          const docLinkHtml = 'Like what you see? Visit the ' +\n",
              "            '<a target=\"_blank\" href=https://colab.research.google.com/notebooks/data_table.ipynb>data table notebook</a>'\n",
              "            + ' to learn more about interactive tables.';\n",
              "          element.innerHTML = '';\n",
              "          dataTable['output_type'] = 'display_data';\n",
              "          await google.colab.output.renderOutput(dataTable, element);\n",
              "          const docLink = document.createElement('div');\n",
              "          docLink.innerHTML = docLinkHtml;\n",
              "          element.appendChild(docLink);\n",
              "        }\n",
              "      </script>\n",
              "    </div>\n",
              "  </div>\n",
              "  "
            ]
          },
          "metadata": {},
          "execution_count": 156
        }
      ]
    },
    {
      "cell_type": "code",
      "source": [
        "df.dropna(subset=['date_submitted'], inplace =True)"
      ],
      "metadata": {
        "id": "2FU-GT4ySL_O"
      },
      "execution_count": null,
      "outputs": []
    },
    {
      "cell_type": "code",
      "source": [
        "sns.heatmap(df.isnull(),yticklabels=False, cbar=False, cmap='viridis')"
      ],
      "metadata": {
        "colab": {
          "base_uri": "https://localhost:8080/",
          "height": 433
        },
        "id": "lqsNsm0oSyV0",
        "outputId": "038bd80e-3417-4ee1-e226-079453081fac"
      },
      "execution_count": null,
      "outputs": [
        {
          "output_type": "execute_result",
          "data": {
            "text/plain": [
              "<matplotlib.axes._subplots.AxesSubplot at 0x7f95136cd1d0>"
            ]
          },
          "metadata": {},
          "execution_count": 158
        },
        {
          "output_type": "display_data",
          "data": {
            "text/plain": [
              "<Figure size 432x288 with 1 Axes>"
            ],
            "image/png": "[encoded data removed]"
          },
          "metadata": {
            "needs_background": "light"
          }
        }
      ]
    },
    {
      "cell_type": "code",
      "source": [
        "#median unregistration number of days for missing values\n",
        "date= df.date_unregistration.median(skipna=True)"
      ],
      "metadata": {
        "id": "L0TCXuMJViEr"
      },
      "execution_count": null,
      "outputs": []
    },
    {
      "cell_type": "code",
      "source": [
        "\n",
        "f=(df.final_result=='Fail')&(df.date_unregistration.isna())\n",
        "p=(df.final_result=='Pass')&(df.date_unregistration.isna())\n",
        "d=(df.final_result=='Distinction')&(df.date_unregistration.isna())\n",
        "w=(df.final_result=='Withdrawn')&(df.date_unregistration.isna())"
      ],
      "metadata": {
        "id": "00aWOr0fWgfv"
      },
      "execution_count": null,
      "outputs": []
    },
    {
      "cell_type": "code",
      "source": [
        "#arbitrary constant where unregistration date is not required\n",
        "df.loc[f,'date_unregistration']=df.loc[f,'date_unregistration'].replace('nan',np.nan).fillna(value= 1000)\n",
        "df.loc[p,'date_unregistration']=df.loc[p,'date_unregistration'].replace('NaN',np.nan).fillna(value= 1000)\n",
        "df.loc[d,'date_unregistration']=df.loc[d,'date_unregistration'].replace('nan',np.nan).fillna(value= 1000)\n",
        "df.loc[w,'date_unregistration']=df.loc[w,'date_unregistration'].replace('nan',np.nan).fillna(value= date)"
      ],
      "metadata": {
        "id": "QAT_RoMUXCfY"
      },
      "execution_count": null,
      "outputs": []
    },
    {
      "cell_type": "code",
      "source": [
        "df['imd_band'].fillna('?',inplace=True)"
      ],
      "metadata": {
        "id": "HNJjoTQDXVjP"
      },
      "execution_count": null,
      "outputs": []
    },
    {
      "cell_type": "code",
      "source": [
        "df.date.unique()"
      ],
      "metadata": {
        "colab": {
          "base_uri": "https://localhost:8080/"
        },
        "id": "d8SV3Qq0gyKe",
        "outputId": "7ab300c5-1e28-480d-eb02-988a0d3949be"
      },
      "execution_count": null,
      "outputs": [
        {
          "output_type": "execute_result",
          "data": {
            "text/plain": [
              "array([ 19.,  54., 117., 166., 215.,  47.,  89., 124., 159., 187.,  96.,\n",
              "       131., 208.,  40.,  12.,  82., 152., 194., 110., 201.,  18.,  67.,\n",
              "        32., 102., 151., 200., 137., 207.,  nan, 109., 158., 144., 214.,\n",
              "        25.,  23.,  53.,  81., 116.,  51.,  79., 114., 149., 170., 240.,\n",
              "       206.,  88., 123., 165., 261.,  74., 241.,  20.,  41.,  62., 111.,\n",
              "       146., 195.,  33.,  68., 222., 173., 236.,  24.,  52.,  87., 129.,\n",
              "       171., 227.,  94., 136., 199.,  61., 229.])"
            ]
          },
          "metadata": {},
          "execution_count": 163
        }
      ]
    },
    {
      "cell_type": "code",
      "source": [
        "mode_days=df.date.mode()\n",
        "mode_days"
      ],
      "metadata": {
        "colab": {
          "base_uri": "https://localhost:8080/"
        },
        "id": "uJRysJqJXZTl",
        "outputId": "7f295548-fec5-499d-a8bc-5f9af1f8884b"
      },
      "execution_count": null,
      "outputs": [
        {
          "output_type": "execute_result",
          "data": {
            "text/plain": [
              "0    222.0\n",
              "dtype: float64"
            ]
          },
          "metadata": {},
          "execution_count": 164
        }
      ]
    },
    {
      "cell_type": "code",
      "source": [
        "df.date.fillna(value=222, inplace=True)"
      ],
      "metadata": {
        "id": "Rp_s1p4sg7lv"
      },
      "execution_count": null,
      "outputs": []
    },
    {
      "cell_type": "code",
      "source": [
        "median_scores=df.score.median(skipna=True)\n",
        "median_scores"
      ],
      "metadata": {
        "colab": {
          "base_uri": "https://localhost:8080/"
        },
        "id": "IDxg8CV4i8vj",
        "outputId": "23ccda3f-841d-4842-b293-2a4c5bd8fab6"
      },
      "execution_count": null,
      "outputs": [
        {
          "output_type": "execute_result",
          "data": {
            "text/plain": [
              "80.0"
            ]
          },
          "metadata": {},
          "execution_count": 166
        }
      ]
    },
    {
      "cell_type": "code",
      "source": [
        "df.score.fillna(value=80, inplace=True)"
      ],
      "metadata": {
        "id": "hnxvU-UDiOeN"
      },
      "execution_count": null,
      "outputs": []
    },
    {
      "cell_type": "code",
      "source": [
        "df.date_registration.median(skipna=True)"
      ],
      "metadata": {
        "colab": {
          "base_uri": "https://localhost:8080/"
        },
        "id": "azTWY5ajjiDe",
        "outputId": "fe12a48f-6867-40c6-ce79-3884751f57fd"
      },
      "execution_count": null,
      "outputs": [
        {
          "output_type": "execute_result",
          "data": {
            "text/plain": [
              "-53.0"
            ]
          },
          "metadata": {},
          "execution_count": 171
        }
      ]
    },
    {
      "cell_type": "code",
      "source": [
        "df.date_registration.fillna(value=-53, inplace=True)"
      ],
      "metadata": {
        "id": "tz_iEUU1j_Yr"
      },
      "execution_count": null,
      "outputs": []
    },
    {
      "cell_type": "code",
      "source": [
        "df.isnull().sum()"
      ],
      "metadata": {
        "colab": {
          "base_uri": "https://localhost:8080/"
        },
        "id": "gMGXQ_0NXovC",
        "outputId": "2d472745-5d6b-4d16-c399-24caa0cfa2c0"
      },
      "execution_count": null,
      "outputs": [
        {
          "output_type": "execute_result",
          "data": {
            "text/plain": [
              "Unnamed: 0                    0\n",
              "code_module                   0\n",
              "code_presentation             0\n",
              "id_student                    0\n",
              "gender                        0\n",
              "region                        0\n",
              "highest_education             0\n",
              "imd_band                      0\n",
              "age_band                      0\n",
              "num_of_prev_attempts          0\n",
              "studied_credits               0\n",
              "disability                    0\n",
              "final_result                  0\n",
              "date_registration             0\n",
              "date_unregistration           0\n",
              "id_assessment                 0\n",
              "date_submitted                0\n",
              "is_banked                     0\n",
              "score                         0\n",
              "assessment_type               0\n",
              "date                          0\n",
              "weight                        0\n",
              "module_presentation_length    0\n",
              "dtype: int64"
            ]
          },
          "metadata": {},
          "execution_count": 173
        }
      ]
    },
    {
      "cell_type": "code",
      "source": [
        "df.to_csv('final_data_for_LA.csv')"
      ],
      "metadata": {
        "id": "Lwce3iYqmH4W"
      },
      "execution_count": null,
      "outputs": []
    },
    {
      "cell_type": "code",
      "source": [
        "sns.set(rc={'figure.figsize':(11.7,8.27)})\n",
        "sns.countplot(x='imd_band',data=df.loc[df['highest_education']=='Post Graduate Qualification\t'])"
      ],
      "metadata": {
        "colab": {
          "base_uri": "https://localhost:8080/",
          "height": 534
        },
        "id": "QJ-2uc_ZXum1",
        "outputId": "cf078e67-5b4a-403c-d1a7-8a8e520bbb78"
      },
      "execution_count": null,
      "outputs": [
        {
          "output_type": "execute_result",
          "data": {
            "text/plain": [
              "<matplotlib.axes._subplots.AxesSubplot at 0x7f9513a56c10>"
            ]
          },
          "metadata": {},
          "execution_count": 131
        },
        {
          "output_type": "display_data",
          "data": {
            "text/plain": [
              "<Figure size 842.4x595.44 with 1 Axes>"
            ],
            "image/png": "[encoded data removed]"
          },
          "metadata": {}
        }
      ]
    },
    {
      "cell_type": "code",
      "source": [
        ""
      ],
      "metadata": {
        "id": "4Tm6iokQZcfO"
      },
      "execution_count": null,
      "outputs": []
    }
  ]
}