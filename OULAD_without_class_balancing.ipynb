{
  "nbformat": 4,
  "nbformat_minor": 0,
  "metadata": {
    "colab": {
      "provenance": [],
      "include_colab_link": true
    },
    "kernelspec": {
      "name": "python3",
      "display_name": "Python 3"
    },
    "language_info": {
      "name": "python"
    }
  },
  "cells": [
    {
      "cell_type": "markdown",
      "metadata": {
        "id": "view-in-github",
        "colab_type": "text"
      },
      "source": [
        "<a href=\"https://colab.research.google.com/github/SnehaDharne/LearningAnalytics/blob/main/OULAD_without_class_balancing.ipynb\" target=\"_parent\"><img src=\"https://colab.research.google.com/assets/colab-badge.svg\" alt=\"Open In Colab\"/></a>"
      ]
    },
    {
      "cell_type": "code",
      "execution_count": null,
      "metadata": {
        "id": "bT5lr6c9CJyA"
      },
      "outputs": [],
      "source": [
        "path = '/content/drive/MyDrive/dataset for notebooks/imputed_data.csv'"
      ]
    },
    {
      "cell_type": "code",
      "source": [
        "import pandas as pd\n",
        "df = pd.read_csv(path)"
      ],
      "metadata": {
        "id": "HfrTIkUr3pNO"
      },
      "execution_count": null,
      "outputs": []
    },
    {
      "cell_type": "code",
      "source": [
        "df"
      ],
      "metadata": {
        "colab": {
          "base_uri": "https://localhost:8080/",
          "height": 748
        },
        "id": "2X_-w0YK3upx",
        "outputId": "afece3d6-fe5b-4bed-d038-be891c314438"
      },
      "execution_count": null,
      "outputs": [
        {
          "output_type": "execute_result",
          "data": {
            "text/plain": [
              "       code_module code_presentation  id_student gender               region  \\\n",
              "0              AAA             2013J     11391.0      M  East Anglian Region   \n",
              "1              AAA             2013J     11391.0      M  East Anglian Region   \n",
              "2              AAA             2013J     11391.0      M  East Anglian Region   \n",
              "3              AAA             2013J     11391.0      M  East Anglian Region   \n",
              "4              AAA             2013J     11391.0      M  East Anglian Region   \n",
              "...            ...               ...         ...    ...                  ...   \n",
              "180657         GGG             2014J   2684003.0      F     Yorkshire Region   \n",
              "180658         GGG             2014J   2684003.0      F     Yorkshire Region   \n",
              "180659         GGG             2014J   2684003.0      F     Yorkshire Region   \n",
              "180660         GGG             2014J   2684003.0      F     Yorkshire Region   \n",
              "180661         GGG             2014J   2684003.0      F     Yorkshire Region   \n",
              "\n",
              "       highest_education imd_band age_band  num_of_prev_attempts  \\\n",
              "0       HE Qualification  90-100%     55<=                   0.0   \n",
              "1       HE Qualification  90-100%     55<=                   0.0   \n",
              "2       HE Qualification  90-100%     55<=                   0.0   \n",
              "3       HE Qualification  90-100%     55<=                   0.0   \n",
              "4       HE Qualification  90-100%     55<=                   0.0   \n",
              "...                  ...      ...      ...                   ...   \n",
              "180657  HE Qualification   50-60%    35-55                   0.0   \n",
              "180658  HE Qualification   50-60%    35-55                   0.0   \n",
              "180659  HE Qualification   50-60%    35-55                   0.0   \n",
              "180660  HE Qualification   50-60%    35-55                   0.0   \n",
              "180661  HE Qualification   50-60%    35-55                   0.0   \n",
              "\n",
              "        studied_credits  ... date_registration date_unregistration  \\\n",
              "0                 240.0  ...            -159.0              1000.0   \n",
              "1                 240.0  ...            -159.0              1000.0   \n",
              "2                 240.0  ...            -159.0              1000.0   \n",
              "3                 240.0  ...            -159.0              1000.0   \n",
              "4                 240.0  ...            -159.0              1000.0   \n",
              "...                 ...  ...               ...                 ...   \n",
              "180657             30.0  ...             -28.0              1000.0   \n",
              "180658             30.0  ...             -28.0              1000.0   \n",
              "180659             30.0  ...             -28.0              1000.0   \n",
              "180660             30.0  ...             -28.0              1000.0   \n",
              "180661             30.0  ...             -28.0              1000.0   \n",
              "\n",
              "        id_assessment  date_submitted  is_banked  score  assessment_type  \\\n",
              "0              1752.0            18.0        0.0   78.0              TMA   \n",
              "1              1753.0            53.0        0.0   85.0              TMA   \n",
              "2              1754.0           115.0        0.0   80.0              TMA   \n",
              "3              1755.0           164.0        0.0   85.0              TMA   \n",
              "4              1756.0           212.0        0.0   82.0              TMA   \n",
              "...               ...             ...        ...    ...              ...   \n",
              "180657        37437.0           169.0        0.0   60.0              TMA   \n",
              "180658        37438.0            73.0        0.0  100.0              CMA   \n",
              "180659        37439.0           150.0        0.0   60.0              CMA   \n",
              "180660        37440.0           172.0        0.0  100.0              CMA   \n",
              "180661        37441.0           206.0        0.0  100.0              CMA   \n",
              "\n",
              "         date weight  module_presentation_length  \n",
              "0        19.0   10.0                       268.0  \n",
              "1        54.0   20.0                       268.0  \n",
              "2       117.0   20.0                       268.0  \n",
              "3       166.0   20.0                       268.0  \n",
              "4       215.0   30.0                       268.0  \n",
              "...       ...    ...                         ...  \n",
              "180657  173.0    0.0                       269.0  \n",
              "180658  229.0    0.0                       269.0  \n",
              "180659  229.0    0.0                       269.0  \n",
              "180660  229.0    0.0                       269.0  \n",
              "180661  229.0    0.0                       269.0  \n",
              "\n",
              "[180662 rows x 22 columns]"
            ],
            "text/html": [
              "\n",
              "  <div id=\"df-3571236f-9b7f-42bb-a972-09daacfce740\">\n",
              "    <div class=\"colab-df-container\">\n",
              "      <div>\n",
              "<style scoped>\n",
              "    .dataframe tbody tr th:only-of-type {\n",
              "        vertical-align: middle;\n",
              "    }\n",
              "\n",
              "    .dataframe tbody tr th {\n",
              "        vertical-align: top;\n",
              "    }\n",
              "\n",
              "    .dataframe thead th {\n",
              "        text-align: right;\n",
              "    }\n",
              "</style>\n",
              "<table border=\"1\" class=\"dataframe\">\n",
              "  <thead>\n",
              "    <tr style=\"text-align: right;\">\n",
              "      <th></th>\n",
              "      <th>code_module</th>\n",
              "      <th>code_presentation</th>\n",
              "      <th>id_student</th>\n",
              "      <th>gender</th>\n",
              "      <th>region</th>\n",
              "      <th>highest_education</th>\n",
              "      <th>imd_band</th>\n",
              "      <th>age_band</th>\n",
              "      <th>num_of_prev_attempts</th>\n",
              "      <th>studied_credits</th>\n",
              "      <th>...</th>\n",
              "      <th>date_registration</th>\n",
              "      <th>date_unregistration</th>\n",
              "      <th>id_assessment</th>\n",
              "      <th>date_submitted</th>\n",
              "      <th>is_banked</th>\n",
              "      <th>score</th>\n",
              "      <th>assessment_type</th>\n",
              "      <th>date</th>\n",
              "      <th>weight</th>\n",
              "      <th>module_presentation_length</th>\n",
              "    </tr>\n",
              "  </thead>\n",
              "  <tbody>\n",
              "    <tr>\n",
              "      <th>0</th>\n",
              "      <td>AAA</td>\n",
              "      <td>2013J</td>\n",
              "      <td>11391.0</td>\n",
              "      <td>M</td>\n",
              "      <td>East Anglian Region</td>\n",
              "      <td>HE Qualification</td>\n",
              "      <td>90-100%</td>\n",
              "      <td>55&lt;=</td>\n",
              "      <td>0.0</td>\n",
              "      <td>240.0</td>\n",
              "      <td>...</td>\n",
              "      <td>-159.0</td>\n",
              "      <td>1000.0</td>\n",
              "      <td>1752.0</td>\n",
              "      <td>18.0</td>\n",
              "      <td>0.0</td>\n",
              "      <td>78.0</td>\n",
              "      <td>TMA</td>\n",
              "      <td>19.0</td>\n",
              "      <td>10.0</td>\n",
              "      <td>268.0</td>\n",
              "    </tr>\n",
              "    <tr>\n",
              "      <th>1</th>\n",
              "      <td>AAA</td>\n",
              "      <td>2013J</td>\n",
              "      <td>11391.0</td>\n",
              "      <td>M</td>\n",
              "      <td>East Anglian Region</td>\n",
              "      <td>HE Qualification</td>\n",
              "      <td>90-100%</td>\n",
              "      <td>55&lt;=</td>\n",
              "      <td>0.0</td>\n",
              "      <td>240.0</td>\n",
              "      <td>...</td>\n",
              "      <td>-159.0</td>\n",
              "      <td>1000.0</td>\n",
              "      <td>1753.0</td>\n",
              "      <td>53.0</td>\n",
              "      <td>0.0</td>\n",
              "      <td>85.0</td>\n",
              "      <td>TMA</td>\n",
              "      <td>54.0</td>\n",
              "      <td>20.0</td>\n",
              "      <td>268.0</td>\n",
              "    </tr>\n",
              "    <tr>\n",
              "      <th>2</th>\n",
              "      <td>AAA</td>\n",
              "      <td>2013J</td>\n",
              "      <td>11391.0</td>\n",
              "      <td>M</td>\n",
              "      <td>East Anglian Region</td>\n",
              "      <td>HE Qualification</td>\n",
              "      <td>90-100%</td>\n",
              "      <td>55&lt;=</td>\n",
              "      <td>0.0</td>\n",
              "      <td>240.0</td>\n",
              "      <td>...</td>\n",
              "      <td>-159.0</td>\n",
              "      <td>1000.0</td>\n",
              "      <td>1754.0</td>\n",
              "      <td>115.0</td>\n",
              "      <td>0.0</td>\n",
              "      <td>80.0</td>\n",
              "      <td>TMA</td>\n",
              "      <td>117.0</td>\n",
              "      <td>20.0</td>\n",
              "      <td>268.0</td>\n",
              "    </tr>\n",
              "    <tr>\n",
              "      <th>3</th>\n",
              "      <td>AAA</td>\n",
              "      <td>2013J</td>\n",
              "      <td>11391.0</td>\n",
              "      <td>M</td>\n",
              "      <td>East Anglian Region</td>\n",
              "      <td>HE Qualification</td>\n",
              "      <td>90-100%</td>\n",
              "      <td>55&lt;=</td>\n",
              "      <td>0.0</td>\n",
              "      <td>240.0</td>\n",
              "      <td>...</td>\n",
              "      <td>-159.0</td>\n",
              "      <td>1000.0</td>\n",
              "      <td>1755.0</td>\n",
              "      <td>164.0</td>\n",
              "      <td>0.0</td>\n",
              "      <td>85.0</td>\n",
              "      <td>TMA</td>\n",
              "      <td>166.0</td>\n",
              "      <td>20.0</td>\n",
              "      <td>268.0</td>\n",
              "    </tr>\n",
              "    <tr>\n",
              "      <th>4</th>\n",
              "      <td>AAA</td>\n",
              "      <td>2013J</td>\n",
              "      <td>11391.0</td>\n",
              "      <td>M</td>\n",
              "      <td>East Anglian Region</td>\n",
              "      <td>HE Qualification</td>\n",
              "      <td>90-100%</td>\n",
              "      <td>55&lt;=</td>\n",
              "      <td>0.0</td>\n",
              "      <td>240.0</td>\n",
              "      <td>...</td>\n",
              "      <td>-159.0</td>\n",
              "      <td>1000.0</td>\n",
              "      <td>1756.0</td>\n",
              "      <td>212.0</td>\n",
              "      <td>0.0</td>\n",
              "      <td>82.0</td>\n",
              "      <td>TMA</td>\n",
              "      <td>215.0</td>\n",
              "      <td>30.0</td>\n",
              "      <td>268.0</td>\n",
              "    </tr>\n",
              "    <tr>\n",
              "      <th>...</th>\n",
              "      <td>...</td>\n",
              "      <td>...</td>\n",
              "      <td>...</td>\n",
              "      <td>...</td>\n",
              "      <td>...</td>\n",
              "      <td>...</td>\n",
              "      <td>...</td>\n",
              "      <td>...</td>\n",
              "      <td>...</td>\n",
              "      <td>...</td>\n",
              "      <td>...</td>\n",
              "      <td>...</td>\n",
              "      <td>...</td>\n",
              "      <td>...</td>\n",
              "      <td>...</td>\n",
              "      <td>...</td>\n",
              "      <td>...</td>\n",
              "      <td>...</td>\n",
              "      <td>...</td>\n",
              "      <td>...</td>\n",
              "      <td>...</td>\n",
              "    </tr>\n",
              "    <tr>\n",
              "      <th>180657</th>\n",
              "      <td>GGG</td>\n",
              "      <td>2014J</td>\n",
              "      <td>2684003.0</td>\n",
              "      <td>F</td>\n",
              "      <td>Yorkshire Region</td>\n",
              "      <td>HE Qualification</td>\n",
              "      <td>50-60%</td>\n",
              "      <td>35-55</td>\n",
              "      <td>0.0</td>\n",
              "      <td>30.0</td>\n",
              "      <td>...</td>\n",
              "      <td>-28.0</td>\n",
              "      <td>1000.0</td>\n",
              "      <td>37437.0</td>\n",
              "      <td>169.0</td>\n",
              "      <td>0.0</td>\n",
              "      <td>60.0</td>\n",
              "      <td>TMA</td>\n",
              "      <td>173.0</td>\n",
              "      <td>0.0</td>\n",
              "      <td>269.0</td>\n",
              "    </tr>\n",
              "    <tr>\n",
              "      <th>180658</th>\n",
              "      <td>GGG</td>\n",
              "      <td>2014J</td>\n",
              "      <td>2684003.0</td>\n",
              "      <td>F</td>\n",
              "      <td>Yorkshire Region</td>\n",
              "      <td>HE Qualification</td>\n",
              "      <td>50-60%</td>\n",
              "      <td>35-55</td>\n",
              "      <td>0.0</td>\n",
              "      <td>30.0</td>\n",
              "      <td>...</td>\n",
              "      <td>-28.0</td>\n",
              "      <td>1000.0</td>\n",
              "      <td>37438.0</td>\n",
              "      <td>73.0</td>\n",
              "      <td>0.0</td>\n",
              "      <td>100.0</td>\n",
              "      <td>CMA</td>\n",
              "      <td>229.0</td>\n",
              "      <td>0.0</td>\n",
              "      <td>269.0</td>\n",
              "    </tr>\n",
              "    <tr>\n",
              "      <th>180659</th>\n",
              "      <td>GGG</td>\n",
              "      <td>2014J</td>\n",
              "      <td>2684003.0</td>\n",
              "      <td>F</td>\n",
              "      <td>Yorkshire Region</td>\n",
              "      <td>HE Qualification</td>\n",
              "      <td>50-60%</td>\n",
              "      <td>35-55</td>\n",
              "      <td>0.0</td>\n",
              "      <td>30.0</td>\n",
              "      <td>...</td>\n",
              "      <td>-28.0</td>\n",
              "      <td>1000.0</td>\n",
              "      <td>37439.0</td>\n",
              "      <td>150.0</td>\n",
              "      <td>0.0</td>\n",
              "      <td>60.0</td>\n",
              "      <td>CMA</td>\n",
              "      <td>229.0</td>\n",
              "      <td>0.0</td>\n",
              "      <td>269.0</td>\n",
              "    </tr>\n",
              "    <tr>\n",
              "      <th>180660</th>\n",
              "      <td>GGG</td>\n",
              "      <td>2014J</td>\n",
              "      <td>2684003.0</td>\n",
              "      <td>F</td>\n",
              "      <td>Yorkshire Region</td>\n",
              "      <td>HE Qualification</td>\n",
              "      <td>50-60%</td>\n",
              "      <td>35-55</td>\n",
              "      <td>0.0</td>\n",
              "      <td>30.0</td>\n",
              "      <td>...</td>\n",
              "      <td>-28.0</td>\n",
              "      <td>1000.0</td>\n",
              "      <td>37440.0</td>\n",
              "      <td>172.0</td>\n",
              "      <td>0.0</td>\n",
              "      <td>100.0</td>\n",
              "      <td>CMA</td>\n",
              "      <td>229.0</td>\n",
              "      <td>0.0</td>\n",
              "      <td>269.0</td>\n",
              "    </tr>\n",
              "    <tr>\n",
              "      <th>180661</th>\n",
              "      <td>GGG</td>\n",
              "      <td>2014J</td>\n",
              "      <td>2684003.0</td>\n",
              "      <td>F</td>\n",
              "      <td>Yorkshire Region</td>\n",
              "      <td>HE Qualification</td>\n",
              "      <td>50-60%</td>\n",
              "      <td>35-55</td>\n",
              "      <td>0.0</td>\n",
              "      <td>30.0</td>\n",
              "      <td>...</td>\n",
              "      <td>-28.0</td>\n",
              "      <td>1000.0</td>\n",
              "      <td>37441.0</td>\n",
              "      <td>206.0</td>\n",
              "      <td>0.0</td>\n",
              "      <td>100.0</td>\n",
              "      <td>CMA</td>\n",
              "      <td>229.0</td>\n",
              "      <td>0.0</td>\n",
              "      <td>269.0</td>\n",
              "    </tr>\n",
              "  </tbody>\n",
              "</table>\n",
              "<p>180662 rows × 22 columns</p>\n",
              "</div>\n",
              "      <button class=\"colab-df-convert\" onclick=\"convertToInteractive('df-3571236f-9b7f-42bb-a972-09daacfce740')\"\n",
              "              title=\"Convert this dataframe to an interactive table.\"\n",
              "              style=\"display:none;\">\n",
              "        \n",
              "  <svg xmlns=\"http://www.w3.org/2000/svg\" height=\"24px\"viewBox=\"0 0 24 24\"\n",
              "       width=\"24px\">\n",
              "    <path d=\"M0 0h24v24H0V0z\" fill=\"none\"/>\n",
              "    <path d=\"M18.56 5.44l.94 2.06.94-2.06 2.06-.94-2.06-.94-.94-2.06-.94 2.06-2.06.94zm-11 1L8.5 8.5l.94-2.06 2.06-.94-2.06-.94L8.5 2.5l-.94 2.06-2.06.94zm10 10l.94 2.06.94-2.06 2.06-.94-2.06-.94-.94-2.06-.94 2.06-2.06.94z\"/><path d=\"M17.41 7.96l-1.37-1.37c-.4-.4-.92-.59-1.43-.59-.52 0-1.04.2-1.43.59L10.3 9.45l-7.72 7.72c-.78.78-.78 2.05 0 2.83L4 21.41c.39.39.9.59 1.41.59.51 0 1.02-.2 1.41-.59l7.78-7.78 2.81-2.81c.8-.78.8-2.07 0-2.86zM5.41 20L4 18.59l7.72-7.72 1.47 1.35L5.41 20z\"/>\n",
              "  </svg>\n",
              "      </button>\n",
              "      \n",
              "  <style>\n",
              "    .colab-df-container {\n",
              "      display:flex;\n",
              "      flex-wrap:wrap;\n",
              "      gap: 12px;\n",
              "    }\n",
              "\n",
              "    .colab-df-convert {\n",
              "      background-color: #E8F0FE;\n",
              "      border: none;\n",
              "      border-radius: 50%;\n",
              "      cursor: pointer;\n",
              "      display: none;\n",
              "      fill: #1967D2;\n",
              "      height: 32px;\n",
              "      padding: 0 0 0 0;\n",
              "      width: 32px;\n",
              "    }\n",
              "\n",
              "    .colab-df-convert:hover {\n",
              "      background-color: #E2EBFA;\n",
              "      box-shadow: 0px 1px 2px rgba(60, 64, 67, 0.3), 0px 1px 3px 1px rgba(60, 64, 67, 0.15);\n",
              "      fill: #174EA6;\n",
              "    }\n",
              "\n",
              "    [theme=dark] .colab-df-convert {\n",
              "      background-color: #3B4455;\n",
              "      fill: #D2E3FC;\n",
              "    }\n",
              "\n",
              "    [theme=dark] .colab-df-convert:hover {\n",
              "      background-color: #434B5C;\n",
              "      box-shadow: 0px 1px 3px 1px rgba(0, 0, 0, 0.15);\n",
              "      filter: drop-shadow(0px 1px 2px rgba(0, 0, 0, 0.3));\n",
              "      fill: #FFFFFF;\n",
              "    }\n",
              "  </style>\n",
              "\n",
              "      <script>\n",
              "        const buttonEl =\n",
              "          document.querySelector('#df-3571236f-9b7f-42bb-a972-09daacfce740 button.colab-df-convert');\n",
              "        buttonEl.style.display =\n",
              "          google.colab.kernel.accessAllowed ? 'block' : 'none';\n",
              "\n",
              "        async function convertToInteractive(key) {\n",
              "          const element = document.querySelector('#df-3571236f-9b7f-42bb-a972-09daacfce740');\n",
              "          const dataTable =\n",
              "            await google.colab.kernel.invokeFunction('convertToInteractive',\n",
              "                                                     [key], {});\n",
              "          if (!dataTable) return;\n",
              "\n",
              "          const docLinkHtml = 'Like what you see? Visit the ' +\n",
              "            '<a target=\"_blank\" href=https://colab.research.google.com/notebooks/data_table.ipynb>data table notebook</a>'\n",
              "            + ' to learn more about interactive tables.';\n",
              "          element.innerHTML = '';\n",
              "          dataTable['output_type'] = 'display_data';\n",
              "          await google.colab.output.renderOutput(dataTable, element);\n",
              "          const docLink = document.createElement('div');\n",
              "          docLink.innerHTML = docLinkHtml;\n",
              "          element.appendChild(docLink);\n",
              "        }\n",
              "      </script>\n",
              "    </div>\n",
              "  </div>\n",
              "  "
            ]
          },
          "metadata": {},
          "execution_count": 3
        }
      ]
    },
    {
      "cell_type": "code",
      "source": [
        "df['fin']=df.final_result.map({'Withdrawn': 100,'Fail' :200, 'Pass':300 ,'Distinction':400})\n",
        "df['code_module_mapped']=df.code_module.map({'AAA': 1, 'BBB': 2, 'CCC':3, 'DDD':4,'EEE':5,'FFF':6, 'GGG':7})\n",
        "df['imd_band_mapped']=df.imd_band.map({'0-10%': 10, '10-20%': 20,'20-30%': 30,'30-40%': 40,'40-50%': 50,'50-60%': 60,'60-70%': 70,'70-80%': 80,'80-90%': 90,'90-100%': 100})\n",
        "df1= pd.get_dummies(df.drop(['final_result','code_module','imd_band'] ,axis =1))\n",
        "df1.drop('disability_N',axis=1, inplace=True)\n",
        "df1.drop('gender_M',axis=1, inplace=True)\n",
        "df1.head()"
      ],
      "metadata": {
        "colab": {
          "base_uri": "https://localhost:8080/",
          "height": 317
        },
        "id": "fd9dvsnh33lD",
        "outputId": "399c64b7-28ea-411b-d38f-a7f84b60e2cb"
      },
      "execution_count": null,
      "outputs": [
        {
          "output_type": "execute_result",
          "data": {
            "text/plain": [
              "   id_student  num_of_prev_attempts  studied_credits  date_registration  \\\n",
              "0     11391.0                   0.0            240.0             -159.0   \n",
              "1     11391.0                   0.0            240.0             -159.0   \n",
              "2     11391.0                   0.0            240.0             -159.0   \n",
              "3     11391.0                   0.0            240.0             -159.0   \n",
              "4     11391.0                   0.0            240.0             -159.0   \n",
              "\n",
              "   date_unregistration  id_assessment  date_submitted  is_banked  score  \\\n",
              "0               1000.0         1752.0            18.0        0.0   78.0   \n",
              "1               1000.0         1753.0            53.0        0.0   85.0   \n",
              "2               1000.0         1754.0           115.0        0.0   80.0   \n",
              "3               1000.0         1755.0           164.0        0.0   85.0   \n",
              "4               1000.0         1756.0           212.0        0.0   82.0   \n",
              "\n",
              "    date  ...  highest_education_Lower Than A Level  \\\n",
              "0   19.0  ...                                     0   \n",
              "1   54.0  ...                                     0   \n",
              "2  117.0  ...                                     0   \n",
              "3  166.0  ...                                     0   \n",
              "4  215.0  ...                                     0   \n",
              "\n",
              "   highest_education_No Formal quals  \\\n",
              "0                                  0   \n",
              "1                                  0   \n",
              "2                                  0   \n",
              "3                                  0   \n",
              "4                                  0   \n",
              "\n",
              "   highest_education_Post Graduate Qualification  age_band_0-35  \\\n",
              "0                                              0              0   \n",
              "1                                              0              0   \n",
              "2                                              0              0   \n",
              "3                                              0              0   \n",
              "4                                              0              0   \n",
              "\n",
              "   age_band_35-55  age_band_55<=  disability_Y  assessment_type_CMA  \\\n",
              "0               0              1             0                    0   \n",
              "1               0              1             0                    0   \n",
              "2               0              1             0                    0   \n",
              "3               0              1             0                    0   \n",
              "4               0              1             0                    0   \n",
              "\n",
              "   assessment_type_Exam  assessment_type_TMA  \n",
              "0                     0                    1  \n",
              "1                     0                    1  \n",
              "2                     0                    1  \n",
              "3                     0                    1  \n",
              "4                     0                    1  \n",
              "\n",
              "[5 rows x 45 columns]"
            ],
            "text/html": [
              "\n",
              "  <div id=\"df-e0ea92c2-4054-4ea9-9742-6adb729adf7b\">\n",
              "    <div class=\"colab-df-container\">\n",
              "      <div>\n",
              "<style scoped>\n",
              "    .dataframe tbody tr th:only-of-type {\n",
              "        vertical-align: middle;\n",
              "    }\n",
              "\n",
              "    .dataframe tbody tr th {\n",
              "        vertical-align: top;\n",
              "    }\n",
              "\n",
              "    .dataframe thead th {\n",
              "        text-align: right;\n",
              "    }\n",
              "</style>\n",
              "<table border=\"1\" class=\"dataframe\">\n",
              "  <thead>\n",
              "    <tr style=\"text-align: right;\">\n",
              "      <th></th>\n",
              "      <th>id_student</th>\n",
              "      <th>num_of_prev_attempts</th>\n",
              "      <th>studied_credits</th>\n",
              "      <th>date_registration</th>\n",
              "      <th>date_unregistration</th>\n",
              "      <th>id_assessment</th>\n",
              "      <th>date_submitted</th>\n",
              "      <th>is_banked</th>\n",
              "      <th>score</th>\n",
              "      <th>date</th>\n",
              "      <th>...</th>\n",
              "      <th>highest_education_Lower Than A Level</th>\n",
              "      <th>highest_education_No Formal quals</th>\n",
              "      <th>highest_education_Post Graduate Qualification</th>\n",
              "      <th>age_band_0-35</th>\n",
              "      <th>age_band_35-55</th>\n",
              "      <th>age_band_55&lt;=</th>\n",
              "      <th>disability_Y</th>\n",
              "      <th>assessment_type_CMA</th>\n",
              "      <th>assessment_type_Exam</th>\n",
              "      <th>assessment_type_TMA</th>\n",
              "    </tr>\n",
              "  </thead>\n",
              "  <tbody>\n",
              "    <tr>\n",
              "      <th>0</th>\n",
              "      <td>11391.0</td>\n",
              "      <td>0.0</td>\n",
              "      <td>240.0</td>\n",
              "      <td>-159.0</td>\n",
              "      <td>1000.0</td>\n",
              "      <td>1752.0</td>\n",
              "      <td>18.0</td>\n",
              "      <td>0.0</td>\n",
              "      <td>78.0</td>\n",
              "      <td>19.0</td>\n",
              "      <td>...</td>\n",
              "      <td>0</td>\n",
              "      <td>0</td>\n",
              "      <td>0</td>\n",
              "      <td>0</td>\n",
              "      <td>0</td>\n",
              "      <td>1</td>\n",
              "      <td>0</td>\n",
              "      <td>0</td>\n",
              "      <td>0</td>\n",
              "      <td>1</td>\n",
              "    </tr>\n",
              "    <tr>\n",
              "      <th>1</th>\n",
              "      <td>11391.0</td>\n",
              "      <td>0.0</td>\n",
              "      <td>240.0</td>\n",
              "      <td>-159.0</td>\n",
              "      <td>1000.0</td>\n",
              "      <td>1753.0</td>\n",
              "      <td>53.0</td>\n",
              "      <td>0.0</td>\n",
              "      <td>85.0</td>\n",
              "      <td>54.0</td>\n",
              "      <td>...</td>\n",
              "      <td>0</td>\n",
              "      <td>0</td>\n",
              "      <td>0</td>\n",
              "      <td>0</td>\n",
              "      <td>0</td>\n",
              "      <td>1</td>\n",
              "      <td>0</td>\n",
              "      <td>0</td>\n",
              "      <td>0</td>\n",
              "      <td>1</td>\n",
              "    </tr>\n",
              "    <tr>\n",
              "      <th>2</th>\n",
              "      <td>11391.0</td>\n",
              "      <td>0.0</td>\n",
              "      <td>240.0</td>\n",
              "      <td>-159.0</td>\n",
              "      <td>1000.0</td>\n",
              "      <td>1754.0</td>\n",
              "      <td>115.0</td>\n",
              "      <td>0.0</td>\n",
              "      <td>80.0</td>\n",
              "      <td>117.0</td>\n",
              "      <td>...</td>\n",
              "      <td>0</td>\n",
              "      <td>0</td>\n",
              "      <td>0</td>\n",
              "      <td>0</td>\n",
              "      <td>0</td>\n",
              "      <td>1</td>\n",
              "      <td>0</td>\n",
              "      <td>0</td>\n",
              "      <td>0</td>\n",
              "      <td>1</td>\n",
              "    </tr>\n",
              "    <tr>\n",
              "      <th>3</th>\n",
              "      <td>11391.0</td>\n",
              "      <td>0.0</td>\n",
              "      <td>240.0</td>\n",
              "      <td>-159.0</td>\n",
              "      <td>1000.0</td>\n",
              "      <td>1755.0</td>\n",
              "      <td>164.0</td>\n",
              "      <td>0.0</td>\n",
              "      <td>85.0</td>\n",
              "      <td>166.0</td>\n",
              "      <td>...</td>\n",
              "      <td>0</td>\n",
              "      <td>0</td>\n",
              "      <td>0</td>\n",
              "      <td>0</td>\n",
              "      <td>0</td>\n",
              "      <td>1</td>\n",
              "      <td>0</td>\n",
              "      <td>0</td>\n",
              "      <td>0</td>\n",
              "      <td>1</td>\n",
              "    </tr>\n",
              "    <tr>\n",
              "      <th>4</th>\n",
              "      <td>11391.0</td>\n",
              "      <td>0.0</td>\n",
              "      <td>240.0</td>\n",
              "      <td>-159.0</td>\n",
              "      <td>1000.0</td>\n",
              "      <td>1756.0</td>\n",
              "      <td>212.0</td>\n",
              "      <td>0.0</td>\n",
              "      <td>82.0</td>\n",
              "      <td>215.0</td>\n",
              "      <td>...</td>\n",
              "      <td>0</td>\n",
              "      <td>0</td>\n",
              "      <td>0</td>\n",
              "      <td>0</td>\n",
              "      <td>0</td>\n",
              "      <td>1</td>\n",
              "      <td>0</td>\n",
              "      <td>0</td>\n",
              "      <td>0</td>\n",
              "      <td>1</td>\n",
              "    </tr>\n",
              "  </tbody>\n",
              "</table>\n",
              "<p>5 rows × 45 columns</p>\n",
              "</div>\n",
              "      <button class=\"colab-df-convert\" onclick=\"convertToInteractive('df-e0ea92c2-4054-4ea9-9742-6adb729adf7b')\"\n",
              "              title=\"Convert this dataframe to an interactive table.\"\n",
              "              style=\"display:none;\">\n",
              "        \n",
              "  <svg xmlns=\"http://www.w3.org/2000/svg\" height=\"24px\"viewBox=\"0 0 24 24\"\n",
              "       width=\"24px\">\n",
              "    <path d=\"M0 0h24v24H0V0z\" fill=\"none\"/>\n",
              "    <path d=\"M18.56 5.44l.94 2.06.94-2.06 2.06-.94-2.06-.94-.94-2.06-.94 2.06-2.06.94zm-11 1L8.5 8.5l.94-2.06 2.06-.94-2.06-.94L8.5 2.5l-.94 2.06-2.06.94zm10 10l.94 2.06.94-2.06 2.06-.94-2.06-.94-.94-2.06-.94 2.06-2.06.94z\"/><path d=\"M17.41 7.96l-1.37-1.37c-.4-.4-.92-.59-1.43-.59-.52 0-1.04.2-1.43.59L10.3 9.45l-7.72 7.72c-.78.78-.78 2.05 0 2.83L4 21.41c.39.39.9.59 1.41.59.51 0 1.02-.2 1.41-.59l7.78-7.78 2.81-2.81c.8-.78.8-2.07 0-2.86zM5.41 20L4 18.59l7.72-7.72 1.47 1.35L5.41 20z\"/>\n",
              "  </svg>\n",
              "      </button>\n",
              "      \n",
              "  <style>\n",
              "    .colab-df-container {\n",
              "      display:flex;\n",
              "      flex-wrap:wrap;\n",
              "      gap: 12px;\n",
              "    }\n",
              "\n",
              "    .colab-df-convert {\n",
              "      background-color: #E8F0FE;\n",
              "      border: none;\n",
              "      border-radius: 50%;\n",
              "      cursor: pointer;\n",
              "      display: none;\n",
              "      fill: #1967D2;\n",
              "      height: 32px;\n",
              "      padding: 0 0 0 0;\n",
              "      width: 32px;\n",
              "    }\n",
              "\n",
              "    .colab-df-convert:hover {\n",
              "      background-color: #E2EBFA;\n",
              "      box-shadow: 0px 1px 2px rgba(60, 64, 67, 0.3), 0px 1px 3px 1px rgba(60, 64, 67, 0.15);\n",
              "      fill: #174EA6;\n",
              "    }\n",
              "\n",
              "    [theme=dark] .colab-df-convert {\n",
              "      background-color: #3B4455;\n",
              "      fill: #D2E3FC;\n",
              "    }\n",
              "\n",
              "    [theme=dark] .colab-df-convert:hover {\n",
              "      background-color: #434B5C;\n",
              "      box-shadow: 0px 1px 3px 1px rgba(0, 0, 0, 0.15);\n",
              "      filter: drop-shadow(0px 1px 2px rgba(0, 0, 0, 0.3));\n",
              "      fill: #FFFFFF;\n",
              "    }\n",
              "  </style>\n",
              "\n",
              "      <script>\n",
              "        const buttonEl =\n",
              "          document.querySelector('#df-e0ea92c2-4054-4ea9-9742-6adb729adf7b button.colab-df-convert');\n",
              "        buttonEl.style.display =\n",
              "          google.colab.kernel.accessAllowed ? 'block' : 'none';\n",
              "\n",
              "        async function convertToInteractive(key) {\n",
              "          const element = document.querySelector('#df-e0ea92c2-4054-4ea9-9742-6adb729adf7b');\n",
              "          const dataTable =\n",
              "            await google.colab.kernel.invokeFunction('convertToInteractive',\n",
              "                                                     [key], {});\n",
              "          if (!dataTable) return;\n",
              "\n",
              "          const docLinkHtml = 'Like what you see? Visit the ' +\n",
              "            '<a target=\"_blank\" href=https://colab.research.google.com/notebooks/data_table.ipynb>data table notebook</a>'\n",
              "            + ' to learn more about interactive tables.';\n",
              "          element.innerHTML = '';\n",
              "          dataTable['output_type'] = 'display_data';\n",
              "          await google.colab.output.renderOutput(dataTable, element);\n",
              "          const docLink = document.createElement('div');\n",
              "          docLink.innerHTML = docLinkHtml;\n",
              "          element.appendChild(docLink);\n",
              "        }\n",
              "      </script>\n",
              "    </div>\n",
              "  </div>\n",
              "  "
            ]
          },
          "metadata": {},
          "execution_count": 4
        }
      ]
    },
    {
      "cell_type": "code",
      "source": [
        "df1.drop(columns= 'imd_band_mapped', inplace = True)"
      ],
      "metadata": {
        "id": "EzYHep-25o8r"
      },
      "execution_count": null,
      "outputs": []
    },
    {
      "cell_type": "code",
      "source": [],
      "metadata": {
        "id": "cmkEM4RF5pAk"
      },
      "execution_count": null,
      "outputs": []
    },
    {
      "cell_type": "code",
      "source": [
        "from sklearn.model_selection import train_test_split\n",
        "from sklearn.ensemble import RandomForestClassifier\n",
        "from sklearn.metrics import confusion_matrix\n",
        "\n",
        "\n",
        "# extract the feature names from your DataFrame\n",
        "feature_cols = df1.columns.tolist()\n",
        "feature_cols.remove(\"fin\")  # remove the target variable from the features\n",
        "\n",
        "# create your X (features) and y (target variable) arrays\n",
        "X = df1[feature_cols].values\n",
        "y = df1[\"fin\"].values\n",
        "\n",
        "# split your data into training and test sets\n",
        "X_train, X_test, y_train, y_test = train_test_split(X, y, test_size=0.2, random_state=42)\n",
        "\n",
        "# train a random forest classifier\n",
        "rf = RandomForestClassifier(n_estimators=100, random_state=42)\n",
        "rf.fit(X_train, y_train)\n",
        "\n",
        "# predict on the test set\n",
        "y_pred = rf.predict(X_test)\n",
        "\n",
        "# evaluate the performance of the classifier\n",
        "cm = confusion_matrix(y_test, y_pred)\n",
        "print(cm)"
      ],
      "metadata": {
        "colab": {
          "base_uri": "https://localhost:8080/"
        },
        "id": "upKiY7S54fhd",
        "outputId": "2265b50a-c004-44a8-829f-c9b19eee7c96"
      },
      "execution_count": null,
      "outputs": [
        {
          "output_type": "stream",
          "name": "stdout",
          "text": [
            "[[ 3675     6     0     0]\n",
            " [    2  5858     0     0]\n",
            " [    0     0 20867   443]\n",
            " [    0     0  2553  2729]]\n"
          ]
        }
      ]
    },
    {
      "cell_type": "code",
      "source": [
        "from sklearn.metrics import classification_report, confusion_matrix, mean_squared_error, accuracy_score\n",
        "print(classification_report(y_test, y_pred))\n",
        "accuracy_score(y_test,y_pred)"
      ],
      "metadata": {
        "colab": {
          "base_uri": "https://localhost:8080/"
        },
        "id": "RDzLkha85eHk",
        "outputId": "e7f0809e-c7c5-4b40-be15-1d69889cc271"
      },
      "execution_count": null,
      "outputs": [
        {
          "output_type": "stream",
          "name": "stdout",
          "text": [
            "              precision    recall  f1-score   support\n",
            "\n",
            "         100       1.00      1.00      1.00      3681\n",
            "         200       1.00      1.00      1.00      5860\n",
            "         300       0.89      0.98      0.93     21310\n",
            "         400       0.86      0.52      0.65      5282\n",
            "\n",
            "    accuracy                           0.92     36133\n",
            "   macro avg       0.94      0.87      0.89     36133\n",
            "weighted avg       0.92      0.92      0.91     36133\n",
            "\n"
          ]
        },
        {
          "output_type": "execute_result",
          "data": {
            "text/plain": [
              "0.9168627016854399"
            ]
          },
          "metadata": {},
          "execution_count": 8
        }
      ]
    },
    {
      "cell_type": "code",
      "source": [
        "from sklearn.metrics import ConfusionMatrixDisplay\n",
        "import matplotlib.pyplot as plt\n",
        "\n",
        "ConfusionMatrixDisplay.from_estimator(rf, X_test, y_test)\n",
        "plt.show()\n"
      ],
      "metadata": {
        "colab": {
          "base_uri": "https://localhost:8080/",
          "height": 449
        },
        "id": "-np98zwV5jIm",
        "outputId": "73718853-528c-4cd7-daa5-8ec7dec16cbe"
      },
      "execution_count": null,
      "outputs": [
        {
          "output_type": "display_data",
          "data": {
            "text/plain": [
              "<Figure size 640x480 with 2 Axes>"
            ],
            "image/png": "[encoded data removed]"
          },
          "metadata": {}
        }
      ]
    },
    {
      "cell_type": "code",
      "source": [
        "from sklearn.metrics import ConfusionMatrixDisplay\n",
        "import matplotlib.pyplot as plt\n",
        "\n",
        "ConfusionMatrixDisplay.from_estimator(rf, X_test, y_test)\n",
        "plt.show()"
      ],
      "metadata": {
        "colab": {
          "base_uri": "https://localhost:8080/",
          "height": 449
        },
        "id": "YBLhxml5cUVF",
        "outputId": "c9a5707e-062b-46e6-b883-1f7e478ae53a"
      },
      "execution_count": null,
      "outputs": [
        {
          "output_type": "display_data",
          "data": {
            "text/plain": [
              "<Figure size 640x480 with 2 Axes>"
            ],
            "image/png": "[encoded data removed]"
          },
          "metadata": {}
        }
      ]
    },
    {
      "cell_type": "code",
      "source": [
        "import numpy as np\n",
        "from sklearn.utils.class_weight import compute_class_weight\n",
        "\n",
        "class_weights = compute_class_weight(class_weight = 'balanced', classes = np.unique(y_train), y = y_train)\n",
        "class_weights_dict = {((i+1)*100) : class_weights[i] for i in range(len(class_weights))}\n",
        "rf = RandomForestClassifier(n_estimators=100, random_state=42, class_weight = class_weights_dict)\n",
        "rf.fit(X_train, y_train)\n",
        "\n",
        "# predict on the test set\n",
        "y_pred = rf.predict(X_test)\n",
        "\n",
        "# evaluate the performance of the classifier\n",
        "cm = confusion_matrix(y_test, y_pred)\n",
        "print(cm)"
      ],
      "metadata": {
        "colab": {
          "base_uri": "https://localhost:8080/"
        },
        "id": "7uHAsThRbwGF",
        "outputId": "d83ad748-10da-4b9f-9e4a-195d31470147"
      },
      "execution_count": null,
      "outputs": [
        {
          "output_type": "stream",
          "name": "stdout",
          "text": [
            "[[ 3678     3     0     0]\n",
            " [    2  5858     0     0]\n",
            " [    0     0 20887   423]\n",
            " [    0     0  2694  2588]]\n"
          ]
        }
      ]
    },
    {
      "cell_type": "code",
      "source": [],
      "metadata": {
        "colab": {
          "base_uri": "https://localhost:8080/"
        },
        "id": "R1yT4PuBdOUG",
        "outputId": "2b66e193-37c2-4550-b81e-581403a8076b"
      },
      "execution_count": null,
      "outputs": [
        {
          "output_type": "execute_result",
          "data": {
            "text/plain": [
              "{0: 2.428732271291255,\n",
              " 1: 1.5124424445374633,\n",
              " 2: 0.42652040984961165,\n",
              " 3: 1.7166595400988218}"
            ]
          },
          "metadata": {},
          "execution_count": 19
        }
      ]
    },
    {
      "cell_type": "code",
      "source": [
        "from sklearn.metrics import classification_report, confusion_matrix, mean_squared_error, accuracy_score\n",
        "print(classification_report(y_test, y_pred))\n",
        "accuracy_score(y_test,y_pred)"
      ],
      "metadata": {
        "colab": {
          "base_uri": "https://localhost:8080/"
        },
        "id": "LTuEYUR9cQ1L",
        "outputId": "25f13acb-c794-4cac-afc8-3d09ebd5e9d9"
      },
      "execution_count": null,
      "outputs": [
        {
          "output_type": "stream",
          "name": "stdout",
          "text": [
            "              precision    recall  f1-score   support\n",
            "\n",
            "         100       1.00      1.00      1.00      3681\n",
            "         200       1.00      1.00      1.00      5860\n",
            "         300       0.89      0.98      0.93     21310\n",
            "         400       0.86      0.49      0.62      5282\n",
            "\n",
            "    accuracy                           0.91     36133\n",
            "   macro avg       0.94      0.87      0.89     36133\n",
            "weighted avg       0.91      0.91      0.90     36133\n",
            "\n"
          ]
        },
        {
          "output_type": "execute_result",
          "data": {
            "text/plain": [
              "0.9135969889021116"
            ]
          },
          "metadata": {},
          "execution_count": 27
        }
      ]
    },
    {
      "cell_type": "code",
      "source": [
        "import sklearn\n",
        "print(sklearn.__version__)\n"
      ],
      "metadata": {
        "colab": {
          "base_uri": "https://localhost:8080/"
        },
        "id": "EiDSQngh6xNl",
        "outputId": "7d02b884-677d-4ce0-e3f2-41cb090d5bd1"
      },
      "execution_count": null,
      "outputs": [
        {
          "output_type": "stream",
          "name": "stdout",
          "text": [
            "1.2.2\n"
          ]
        }
      ]
    },
    {
      "cell_type": "code",
      "source": [
        "from sklearn.naive_bayes import BernoulliNB\n",
        "clf = BernoulliNB()\n",
        "clf.fit(X_train,y_train)\n",
        "BernoulliNB()\n",
        "y_pred= clf.predict(X_test)\n",
        "from sklearn.metrics import confusion_matrix, accuracy_score\n",
        "print('test accuracy:', accuracy_score(y_test, y_pred))\n"
      ],
      "metadata": {
        "colab": {
          "base_uri": "https://localhost:8080/"
        },
        "id": "rP-ydp6K6938",
        "outputId": "b4de06fe-6167-45b3-8a4c-0551f244e512"
      },
      "execution_count": null,
      "outputs": [
        {
          "output_type": "stream",
          "name": "stdout",
          "text": [
            "test accuracy: 0.7509755625051892\n"
          ]
        }
      ]
    },
    {
      "cell_type": "code",
      "source": [
        "\n",
        "ConfusionMatrixDisplay.from_estimator(clf, X_test, y_test)\n",
        "plt.show()\n"
      ],
      "metadata": {
        "colab": {
          "base_uri": "https://localhost:8080/",
          "height": 449
        },
        "id": "L7yK2lWq982s",
        "outputId": "96c00277-8411-4c96-928f-ec20b47dd429"
      },
      "execution_count": null,
      "outputs": [
        {
          "output_type": "display_data",
          "data": {
            "text/plain": [
              "<Figure size 640x480 with 2 Axes>"
            ],
            "image/png": "[encoded data removed]"
          },
          "metadata": {}
        }
      ]
    },
    {
      "cell_type": "code",
      "source": [
        "from sklearn.ensemble import GradientBoostingClassifier\n",
        "clf = GradientBoostingClassifier(n_estimators=100, learning_rate=1.0,  max_depth=1, random_state=0).fit(X_train, y_train)\n",
        "clf.score(X_test, y_test)"
      ],
      "metadata": {
        "colab": {
          "base_uri": "https://localhost:8080/"
        },
        "id": "bZ91cDH-9-Lx",
        "outputId": "8e81c4ec-049e-4489-d64a-01913b87a3e1"
      },
      "execution_count": null,
      "outputs": [
        {
          "output_type": "execute_result",
          "data": {
            "text/plain": [
              "0.8634766003376415"
            ]
          },
          "metadata": {},
          "execution_count": 27
        }
      ]
    },
    {
      "cell_type": "code",
      "source": [
        "\n",
        "ConfusionMatrixDisplay.from_estimator(clf, X_test, y_test)\n",
        "plt.show()"
      ],
      "metadata": {
        "colab": {
          "base_uri": "https://localhost:8080/",
          "height": 449
        },
        "id": "gDfl1063_4Kn",
        "outputId": "c8f84d34-0605-4c6c-dbb9-f67991546818"
      },
      "execution_count": null,
      "outputs": [
        {
          "output_type": "display_data",
          "data": {
            "text/plain": [
              "<Figure size 640x480 with 2 Axes>"
            ],
            "image/png": "[encoded data removed]"
          },
          "metadata": {}
        }
      ]
    },
    {
      "cell_type": "code",
      "source": [
        "print(classification_report(y_test, y_pred))\n",
        "mean_squared_error(y_test,y_pred)"
      ],
      "metadata": {
        "colab": {
          "base_uri": "https://localhost:8080/"
        },
        "id": "C9tY3MGy__DB",
        "outputId": "8a7ebff0-a8fd-4fba-d6b3-a08f6e23140a"
      },
      "execution_count": null,
      "outputs": [
        {
          "output_type": "stream",
          "name": "stdout",
          "text": [
            "              precision    recall  f1-score   support\n",
            "\n",
            "         100       0.39      0.03      0.06      3681\n",
            "         200       0.90      1.00      0.95      5860\n",
            "         300       0.72      0.98      0.83     21310\n",
            "         400       0.48      0.04      0.07      5282\n",
            "\n",
            "    accuracy                           0.75     36133\n",
            "   macro avg       0.63      0.51      0.48     36133\n",
            "weighted avg       0.68      0.75      0.66     36133\n",
            "\n"
          ]
        },
        {
          "output_type": "execute_result",
          "data": {
            "text/plain": [
              "5150.693272078156"
            ]
          },
          "metadata": {},
          "execution_count": 29
        }
      ]
    },
    {
      "cell_type": "code",
      "source": [
        "#so we need to balance the number of samples (???oversampling/undersampling/smo)"
      ],
      "metadata": {
        "id": "LLPs-cHKAZDE"
      },
      "execution_count": null,
      "outputs": []
    },
    {
      "cell_type": "code",
      "source": [
        "df.fin.value_counts()"
      ],
      "metadata": {
        "colab": {
          "base_uri": "https://localhost:8080/"
        },
        "id": "5LO5-tZvBd58",
        "outputId": "7c00c67f-f4be-4fcd-9029-167804a6e3b5"
      },
      "execution_count": null,
      "outputs": [
        {
          "output_type": "execute_result",
          "data": {
            "text/plain": [
              "300    106024\n",
              "200     29750\n",
              "400     26330\n",
              "100     18558\n",
              "Name: fin, dtype: int64"
            ]
          },
          "metadata": {},
          "execution_count": 30
        }
      ]
    },
    {
      "cell_type": "code",
      "source": [
        "import numpy as np\n",
        "from sklearn.utils.class_weight import compute_class_weight\n",
        "\n",
        "class_weights = compute_class_weight(class_weight = 'balanced', classes = np.unique(y_train), y = y_train)"
      ],
      "metadata": {
        "id": "jNqwJ1XdBhY8"
      },
      "execution_count": null,
      "outputs": []
    },
    {
      "cell_type": "code",
      "source": [
        "class_weights"
      ],
      "metadata": {
        "colab": {
          "base_uri": "https://localhost:8080/"
        },
        "id": "1UMVpkN0B9qI",
        "outputId": "be0a8048-4e86-4924-b072-e42af58a1484"
      },
      "execution_count": null,
      "outputs": [
        {
          "output_type": "execute_result",
          "data": {
            "text/plain": [
              "array([2.42873227, 1.51244244, 0.42652041, 1.71665954])"
            ]
          },
          "metadata": {},
          "execution_count": 41
        }
      ]
    },
    {
      "cell_type": "code",
      "source": [
        "from sklearn.ensemble import GradientBoostingClassifier\n",
        "clf = GradientBoostingClassifier(n_estimators=100, learning_rate=1.0, max_depth=1, random_state=0).fit(X_train, y_train)\n",
        "clf.score(X_test, y_test)"
      ],
      "metadata": {
        "colab": {
          "base_uri": "https://localhost:8080/"
        },
        "id": "uH9CcPTwC5vp",
        "outputId": "77605e35-bf94-457c-afd7-6137ca159bae"
      },
      "execution_count": null,
      "outputs": [
        {
          "output_type": "execute_result",
          "data": {
            "text/plain": [
              "0.8634766003376415"
            ]
          },
          "metadata": {},
          "execution_count": 28
        }
      ]
    },
    {
      "cell_type": "code",
      "source": [
        "from sklearn.model_selection import GridSearchCV\n",
        "from sklearn.metrics import f1_score\n",
        "\n",
        "# define the hyperparameter grid\n",
        "param_grid = {\n",
        "    'n_estimators': [80, 100, 120],\n",
        "    'learning_rate': [0.9, 1.0, 1.2],\n",
        "    'max_depth': [1, 2, 3],\n",
        "}\n",
        "\n",
        "# create the GridSearchCV object\n",
        "gbm_grid = GridSearchCV(\n",
        "    estimator=GradientBoostingClassifier(random_state=0),\n",
        "    param_grid=param_grid,\n",
        "    cv=5,\n",
        "    scoring='f1_weighted',\n",
        "    verbose = 2\n",
        ")\n",
        "\n",
        "# fit the GridSearchCV object to the data\n",
        "gbm_grid.fit(X_train, y_train)\n",
        "\n",
        "# print the best hyperparameters\n",
        "print(\"Best hyperparameters:\", gbm_grid.best_params_)\n",
        "\n",
        "# calculate the f1 score on the test set using the best estimator\n",
        "y_pred = gbm_grid.best_estimator_.predict(X_test)\n",
        "f1 = f1_score(y_test, y_pred, average='weighted')\n",
        "print(\"Test set f1 score: {:.3f}\".format(f1))\n"
      ],
      "metadata": {
        "colab": {
          "base_uri": "https://localhost:8080/"
        },
        "id": "u2koMfVtDENk",
        "outputId": "6f483f0d-5da1-446d-917c-f42899db3ade"
      },
      "execution_count": null,
      "outputs": [
        {
          "output_type": "stream",
          "name": "stdout",
          "text": [
            "Fitting 5 folds for each of 27 candidates, totalling 135 fits\n",
            "[CV] END ....learning_rate=0.9, max_depth=1, n_estimators=80; total time=  46.8s\n",
            "[CV] END ....learning_rate=0.9, max_depth=1, n_estimators=80; total time=  46.3s\n",
            "[CV] END ....learning_rate=0.9, max_depth=1, n_estimators=80; total time=  47.0s\n",
            "[CV] END ....learning_rate=0.9, max_depth=1, n_estimators=80; total time=  46.5s\n",
            "[CV] END ....learning_rate=0.9, max_depth=1, n_estimators=80; total time=  47.2s\n",
            "[CV] END ...learning_rate=0.9, max_depth=1, n_estimators=100; total time=  58.5s\n",
            "[CV] END ...learning_rate=0.9, max_depth=1, n_estimators=100; total time=  58.1s\n",
            "[CV] END ...learning_rate=0.9, max_depth=1, n_estimators=100; total time=  57.5s\n",
            "[CV] END ...learning_rate=0.9, max_depth=1, n_estimators=100; total time= 1.0min\n",
            "[CV] END ...learning_rate=0.9, max_depth=1, n_estimators=100; total time=  58.0s\n",
            "[CV] END ...learning_rate=0.9, max_depth=1, n_estimators=120; total time= 1.2min\n",
            "[CV] END ...learning_rate=0.9, max_depth=1, n_estimators=120; total time= 1.2min\n",
            "[CV] END ...learning_rate=0.9, max_depth=1, n_estimators=120; total time= 1.2min\n",
            "[CV] END ...learning_rate=0.9, max_depth=1, n_estimators=120; total time= 1.2min\n",
            "[CV] END ...learning_rate=0.9, max_depth=1, n_estimators=120; total time= 1.2min\n",
            "[CV] END ....learning_rate=0.9, max_depth=2, n_estimators=80; total time= 1.4min\n",
            "[CV] END ....learning_rate=0.9, max_depth=2, n_estimators=80; total time= 1.3min\n",
            "[CV] END ....learning_rate=0.9, max_depth=2, n_estimators=80; total time= 1.4min\n",
            "[CV] END ....learning_rate=0.9, max_depth=2, n_estimators=80; total time= 1.4min\n",
            "[CV] END ....learning_rate=0.9, max_depth=2, n_estimators=80; total time= 1.3min\n",
            "[CV] END ...learning_rate=0.9, max_depth=2, n_estimators=100; total time= 1.7min\n",
            "[CV] END ...learning_rate=0.9, max_depth=2, n_estimators=100; total time= 1.6min\n",
            "[CV] END ...learning_rate=0.9, max_depth=2, n_estimators=100; total time= 1.8min\n",
            "[CV] END ...learning_rate=0.9, max_depth=2, n_estimators=100; total time= 1.7min\n"
          ]
        }
      ]
    },
    {
      "cell_type": "code",
      "source": [],
      "metadata": {
        "id": "ugfZp0Zbi-PV"
      },
      "execution_count": null,
      "outputs": []
    }
  ]
}